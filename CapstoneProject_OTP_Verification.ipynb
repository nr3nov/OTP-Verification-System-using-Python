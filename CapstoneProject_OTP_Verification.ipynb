{
  "nbformat": 4,
  "nbformat_minor": 0,
  "metadata": {
    "colab": {
      "provenance": []
    },
    "kernelspec": {
      "name": "python3",
      "display_name": "Python 3"
    },
    "language_info": {
      "name": "python"
    }
  },
  "cells": [
    {
      "cell_type": "markdown",
      "source": [
        "***Project Title: OTP Verification System ***"
      ],
      "metadata": {
        "id": "4zVgT8dBQgaX"
      }
    },
    {
      "cell_type": "code",
      "execution_count": null,
      "metadata": {
        "id": "hz42x-1k5Asa"
      },
      "outputs": [],
      "source": [
        "# import library random to generate random string sequence\n",
        "import random\n",
        "import string\n",
        "import smtplib\n",
        "from email.mime.text import MIMEText\n",
        "from email.mime.multipart import MIMEMultipart"
      ]
    },
    {
      "cell_type": "code",
      "source": [
        "# function to generate otp\n",
        "def generate_otp(length):\n",
        "  #The join() method takes all items in an iterable and joins them into one string.\n",
        "  #A string must be specified as the separator. string.join(iterable)\n",
        "\n",
        "  otp = ''.join(random.choices(string.digits,k=length))\n",
        "  #otp =  random.randint(100000,999999)\n",
        "  return otp"
      ],
      "metadata": {
        "id": "Um2E_bLYhT6m"
      },
      "execution_count": 2,
      "outputs": []
    },
    {
      "cell_type": "code",
      "source": [
        "\n",
        "#Function to send otp on email\n",
        "def send_otp_mail(receiver_email, otp,sender_email,sender_password):\n",
        "\n",
        "  try:\n",
        "    #sender_email = \"your@gmail.com\"\n",
        "    #sender_password = \"jydijspsxdugrbhu\"  # use the app password instead of your google password for your smtp.\n",
        "    subject= \"Your OTP Code\"\n",
        "    body= f\"The OTP is: {otp} It is valid for 5 minutes.\"\n",
        "\n",
        "    # create the email message\n",
        "    msg= MIMEMultipart()\n",
        "    msg[\"From\"] = sender_email\n",
        "    msg[\"To\"] =  receiver_email\n",
        "    msg[\"subject\"] = subject\n",
        "    msg.attach(MIMEText(body,\"plain\"))\n",
        "\n",
        "    with smtplib.SMTP(\"smtp.gmail.com\", 587) as server:\n",
        "      # now put the SMTP connection in TLS mode. TLS (Transport Layer Security) encrypts all the SMTP commands\n",
        "      server.starttls()\n",
        "      server.login(sender_email, sender_password)\n",
        "      server.sendmail(sender_email, receiver_email, msg.as_string())\n",
        "    print(f\"OTP sent to {receiver_email}.\")\n",
        "\n",
        "  except Exception as e:\n",
        "      print(f\"Failed to send email: {e}\")\n",
        "\n",
        "\n",
        "# OTP Verification system:Function to verify otp\n",
        "\n",
        "def otp_verification_system():\n",
        "    sender_email = input(\"Enter sender email: \")\n",
        "    sender_password = input(\"Enter sender email password: \")\n",
        "    receiver_email = input(\"Enter receiver email: \")\n",
        "\n",
        "    otp = generate_otp(6)\n",
        "    send_otp_mail(receiver_email, otp, sender_email, sender_password)\n",
        "    #send_otp_mail(receiver_email, otp)\n",
        "\n",
        "    # Ask user to enter the OTP\n",
        "    for _ in range(3):  # Allow up to 3 attempts\n",
        "        entered_otp = input(\"Enter the OTP sent to your email: \")\n",
        "        if entered_otp == otp:\n",
        "            print(\"OTP Verified Successfully!\")\n",
        "            return True\n",
        "        else:\n",
        "            print(\"Invalid OTP. Try again.\")\n",
        "\n",
        "    print(\"Failed to verify OTP. Please request a new one.\")\n",
        "    return False\n",
        "\n",
        "if __name__ == \"__main__\":\n",
        "    otp_verification_system()\n",
        "\n"
      ],
      "metadata": {
        "id": "w8cA8Rfqkluk"
      },
      "execution_count": null,
      "outputs": []
    }
  ]
}